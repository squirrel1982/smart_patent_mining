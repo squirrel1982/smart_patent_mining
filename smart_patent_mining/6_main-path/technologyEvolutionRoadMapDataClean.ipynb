{
 "cells": [
  {
   "cell_type": "code",
   "execution_count": null,
   "metadata": {},
   "outputs": [],
   "source": [
    "# 找一个节点\n",
    "nodeGA = a[0][1][1][0]\n",
    "# 计算其与其他节点的相似度\n",
    "ab = roadMap.getAbstractByGA(nodeGA)\n",
    "retriveResult = roadMap.computeSimilarityByTermsAndSort(ab)\n",
    "# 统计节点的相似度分布情况\n",
    "%matplotlib inline\n",
    "from IPython.core.pylabtools import figsize\n",
    "import numpy as np\n",
    "from matplotlib import pyplot as plt\n",
    "figsize(12.5, 4)\n",
    "plt.title(\"Posterior distribution of $p_A$, the true effectiveness of site A\")\n",
    "#plt.vlines(p_true, 0, 90, linestyle=\"--\", label=\"true $p_A$ (unknown)\")\n",
    "#首先把负值的相似度删除掉\n",
    "#\n",
    "plt.hist(mcmc.trace(\"p\")[:], bins=100, histtype=\"stepfilled\", normed=True)\n",
    "plt.legend()\n"
   ]
  },
  {
   "cell_type": "code",
   "execution_count": 2,
   "metadata": {},
   "outputs": [],
   "source": [
    "from gensim import *"
   ]
  },
  {
   "cell_type": "code",
   "execution_count": 8,
   "metadata": {},
   "outputs": [
    {
     "ename": "NameError",
     "evalue": "name 'retriveResult' is not defined",
     "traceback": [
      "\u001b[1;31m---------------------------------------------------------------------------\u001b[0m\n\u001b[1;31mNameError\u001b[0m                                 Traceback (most recent call last)",
      "\u001b[1;32m<ipython-input-8-99b7b77d4b51>\u001b[0m in \u001b[0;36m<module>\u001b[1;34m()\u001b[0m\n\u001b[0;32m      1\u001b[0m \u001b[1;31m# retriveResult中找最大的数，找最小的数，等分为x份\u001b[0m\u001b[1;33m\u001b[0m\u001b[1;33m\u001b[0m\u001b[0m\n\u001b[1;32m----> 2\u001b[1;33m \u001b[0ma\u001b[0m \u001b[1;33m=\u001b[0m \u001b[0msorted\u001b[0m\u001b[1;33m(\u001b[0m\u001b[0mretriveResult\u001b[0m\u001b[1;33m,\u001b[0m\u001b[1;32mlambda\u001b[0m \u001b[0mx\u001b[0m\u001b[1;33m,\u001b[0m\u001b[0my\u001b[0m\u001b[1;33m:\u001b[0m\u001b[0mcmp\u001b[0m\u001b[1;33m(\u001b[0m\u001b[0mx\u001b[0m\u001b[1;33m,\u001b[0m\u001b[0my\u001b[0m\u001b[1;33m)\u001b[0m\u001b[1;33m,\u001b[0m\u001b[0mreverse\u001b[0m\u001b[1;33m=\u001b[0m\u001b[0mTrue\u001b[0m\u001b[1;33m)\u001b[0m\u001b[1;33m\u001b[0m\u001b[0m\n\u001b[0m\u001b[0;32m      3\u001b[0m \u001b[0mmax_value\u001b[0m \u001b[1;33m=\u001b[0m \u001b[0ma\u001b[0m\u001b[1;33m[\u001b[0m\u001b[1;36m0\u001b[0m\u001b[1;33m]\u001b[0m\u001b[1;33m\u001b[0m\u001b[0m\n\u001b[0;32m      4\u001b[0m \u001b[0mmin_value\u001b[0m \u001b[1;33m=\u001b[0m \u001b[0ma\u001b[0m\u001b[1;33m[\u001b[0m\u001b[0mlen\u001b[0m\u001b[1;33m(\u001b[0m\u001b[0ma\u001b[0m\u001b[1;33m)\u001b[0m\u001b[1;33m-\u001b[0m\u001b[1;36m1\u001b[0m\u001b[1;33m]\u001b[0m\u001b[1;33m\u001b[0m\u001b[0m\n\u001b[0;32m      5\u001b[0m \u001b[0mslice_1\u001b[0m \u001b[1;33m=\u001b[0m \u001b[1;33m(\u001b[0m\u001b[0mmax_value\u001b[0m\u001b[1;33m-\u001b[0m\u001b[0mmin_value\u001b[0m\u001b[1;33m)\u001b[0m\u001b[1;33m/\u001b[0m\u001b[0mn\u001b[0m\u001b[1;33m\u001b[0m\u001b[0m\n",
      "\u001b[1;31mNameError\u001b[0m: name 'retriveResult' is not defined"
     ],
     "output_type": "error"
    }
   ],
   "source": [
    "# retriveResult中找最大的数，找最小的数，等分为x份\n",
    "a = sorted(retriveResult,lambda x,y:cmp(x,y),reverse=True)\n",
    "max_value = a[0]\n",
    "min_value = a[len(a)-1]\n",
    "slice_1 = (max_value-min_value)/n\n",
    "list_1 = []\n",
    "# \n",
    "for i in range(500):\n",
    "    list_1.append(0)\n",
    "for i in retriveResult:\n",
    "    list_1[int(math.ceil((retriveResult[i]-min_value)/slice_1))-1] = i\n",
    "# 计算落在每份中的数量是多少\n",
    "# 以等分为x轴，落在每等分的数量为y轴，绘制曲线\n",
    "\n"
   ]
  },
  {
   "cell_type": "code",
   "execution_count": 7,
   "metadata": {},
   "outputs": [],
   "source": [
    "gensim.models.lsimodel.ascarray()"
   ]
  },
  {
   "cell_type": "code",
   "execution_count": null,
   "metadata": {},
   "outputs": [],
   "source": [
    "a = sorted(retriveResult,lambda x,y:cmp(x,y),reverse=True)\n",
    "max_value = a[0]\n",
    "min_value = a[len(a)-1]\n",
    "slice_1 = (max_value-min_value)/500\n",
    "list_1 = []\n",
    "# \n",
    "for i in range(500):\n",
    "    list_1.append(0)"
   ]
  },
  {
   "cell_type": "code",
   "execution_count": 122,
   "metadata": {},
   "outputs": [],
   "source": [
    "import pymssql\n",
    "conn=pymssql.connect(host=\".\",user=\"su\",password=\"123\",database=\"car_database\")\n",
    "cursor = conn.cursor();\n",
    "sql = \"select id,ab from original_info\"\n",
    "cursor.execute(sql)\n",
    "m=cursor.fetchall()"
   ]
  },
  {
   "cell_type": "code",
   "execution_count": 72,
   "metadata": {},
   "outputs": [],
   "source": [
    "\n",
    "from topia.termextract import extract\n",
    "extractor = extract.TermExtractor()\n"
   ]
  },
  {
   "cell_type": "code",
   "execution_count": 123,
   "metadata": {},
   "outputs": [],
   "source": [
    "a = m[5:20]"
   ]
  },
  {
   "cell_type": "code",
   "execution_count": 93,
   "metadata": {},
   "outputs": [],
   "source": [
    "\n",
    "texts_stemmed = [[word[0] for word in extractor(document[1])] for document in a] \n"
   ]
  },
  {
   "cell_type": "code",
   "execution_count": 105,
   "metadata": {},
   "outputs": [],
   "source": [
    "a = []\n",
    "for  i in texts_stemmed:\n",
    "    a+=i "
   ]
  },
  {
   "cell_type": "code",
   "execution_count": 125,
   "metadata": {},
   "outputs": [
    {
     "data": {
      "text/plain": [
       "[('battery frame (11)', 1, 3),\n",
       " ('battery', 3, 1),\n",
       " ('frame', 3, 1),\n",
       " ('floor member (2)', 1, 3),\n",
       " ('sealing material (25)', 1, 3),\n",
       " ('circumference edge', 1, 2),\n",
       " ('battery frame', 2, 2),\n",
       " ('member press-fit slot', 1, 3),\n",
       " ('floor', 4, 1),\n",
       " ('member', 6, 1),\n",
       " ('floor member', 3, 2),\n",
       " ('Secures sealing nature', 1, 3),\n",
       " ('flange', 5, 1),\n",
       " ('attachment structure', 1, 2),\n",
       " ('member press-fit slot (24)', 1, 4),\n",
       " ('flanges (22, 23)', 1, 3)]"
      ]
     },
     "execution_count": 125,
     "metadata": {},
     "output_type": "execute_result"
    }
   ],
   "source": [
    "extractor(a[0][1]) "
   ]
  },
  {
   "cell_type": "code",
   "execution_count": 85,
   "metadata": {},
   "outputs": [
    {
     "name": "stdout",
     "output_type": "stream",
     "text": [
      "battery________battery,,/\n",
      "seal member ________seal member (18)\n",
      "frame________frame\n",
      "wall length________wall length\n",
      "performs waste water treatment________performs waste water treatment\n",
      "battery frame________battery frame\n",
      "number batteries________number batteries\n",
      "air entrance duct________air entrance duct\n",
      "partition walls (13________partition walls (13\n",
      "battery frame ________battery frame (6).\n",
      "floor member________floor member\n",
      "battery frame bottom board________battery frame bottom board\n",
      "air exit duct________air exit duct\n",
      "contact lens________contact lens\n",
      "partition walls________partition walls\n",
      "water________water\n",
      "walls ________walls (13,14)\n",
      "front________front\n",
      "wall________wall\n",
      "body ________body (10)\n",
      "cooling effect________cooling effect\n",
      "detachment work________detachment work\n"
     ]
    }
   ],
   "source": [
    "import re\n",
    "pattern = re.compile(r'\\(.*\\)|\\.|,|/')\n",
    "for i in c:\n",
    "    print pattern.sub(r'',i)+'________'+i"
   ]
  },
  {
   "cell_type": "raw",
   "metadata": {},
   "source": []
  },
  {
   "cell_type": "code",
   "execution_count": 41,
   "metadata": {},
   "outputs": [
    {
     "data": {
      "text/plain": [
       "5"
      ]
     },
     "execution_count": 41,
     "metadata": {},
     "output_type": "execute_result"
    }
   ],
   "source": [
    "len(a)\n",
    "    "
   ]
  },
  {
   "cell_type": "code",
   "execution_count": 64,
   "metadata": {},
   "outputs": [],
   "source": [
    "for i in a:\n",
    "    b=extractor(i[1])\n",
    "    c= [j[0] for j in b]\n",
    "    pattern = re.compile(r'\\(.*\\)|\\.')\n",
    "    s = set([pattern.sub(r'',k).strip() for k in c])\n",
    "    s.discard('')\n",
    "    i.append(list(s))\n",
    "    "
   ]
  },
  {
   "cell_type": "code",
   "execution_count": 1,
   "metadata": {},
   "outputs": [
    {
     "name": "stdout",
     "output_type": "stream",
     "text": [
      "1 \"IA��������\" 0.0 0.0 0.0\n",
      "\n"
     ]
    },
    {
     "ename": "IndexError",
     "evalue": "list index out of range",
     "traceback": [
      "\u001b[1;31m---------------------------------------------------------------------------\u001b[0m\n\u001b[1;31mIndexError\u001b[0m                                Traceback (most recent call last)",
      "\u001b[1;32m<ipython-input-1-30abb8e07118>\u001b[0m in \u001b[0;36m<module>\u001b[1;34m()\u001b[0m\n\u001b[0;32m      3\u001b[0m \u001b[1;32mimport\u001b[0m \u001b[0mpajekUtil\u001b[0m\u001b[1;33m\u001b[0m\u001b[0m\n\u001b[0;32m      4\u001b[0m \u001b[0mpu\u001b[0m \u001b[1;33m=\u001b[0m \u001b[0mpajekUtil\u001b[0m\u001b[1;33m.\u001b[0m\u001b[0mPajekUtil\u001b[0m\u001b[1;33m(\u001b[0m\u001b[1;33m)\u001b[0m\u001b[1;33m\u001b[0m\u001b[0m\n\u001b[1;32m----> 5\u001b[1;33m \u001b[0mpu\u001b[0m\u001b[1;33m.\u001b[0m\u001b[0mloadNetworkFromPajeknet\u001b[0m\u001b[1;33m(\u001b[0m\u001b[1;34m'time_1.net'\u001b[0m\u001b[1;33m)\u001b[0m\u001b[1;33m\u001b[0m\u001b[0m\n\u001b[0m\u001b[0;32m      6\u001b[0m \u001b[0mtime1_list\u001b[0m \u001b[1;33m=\u001b[0m \u001b[0mpu\u001b[0m\u001b[1;33m.\u001b[0m\u001b[0mloadPartitionFromClu\u001b[0m\u001b[1;33m(\u001b[0m\u001b[1;34m'blockmodel_time1.clu'\u001b[0m\u001b[1;33m)\u001b[0m\u001b[1;33m\u001b[0m\u001b[0m\n\u001b[0;32m      7\u001b[0m \u001b[0mpu\u001b[0m\u001b[1;33m.\u001b[0m\u001b[0mwriteLabel_par_map_2_txt\u001b[0m\u001b[1;33m(\u001b[0m\u001b[0mpu\u001b[0m\u001b[1;33m.\u001b[0m\u001b[0mg\u001b[0m\u001b[1;33m,\u001b[0m\u001b[0mtime1_list\u001b[0m\u001b[1;33m,\u001b[0m\u001b[1;34m'time1.txt'\u001b[0m\u001b[1;33m)\u001b[0m\u001b[1;33m\u001b[0m\u001b[0m\n",
      "\u001b[1;32me:\\mysoftware\\pajekUtil.py\u001b[0m in \u001b[0;36mloadNetworkFromPajeknet\u001b[1;34m(self, netAddress)\u001b[0m\n\u001b[0;32m    279\u001b[0m                   \u001b[0mb\u001b[0m \u001b[1;33m=\u001b[0m \u001b[1;33m[\u001b[0m\u001b[0mi\u001b[0m \u001b[1;32mfor\u001b[0m \u001b[0mi\u001b[0m \u001b[1;32min\u001b[0m \u001b[0ma\u001b[0m \u001b[1;32mif\u001b[0m \u001b[0mi\u001b[0m \u001b[1;32mis\u001b[0m \u001b[1;32mnot\u001b[0m \u001b[1;34m''\u001b[0m\u001b[1;33m]\u001b[0m\u001b[1;33m\u001b[0m\u001b[0m\n\u001b[0;32m    280\u001b[0m                   \u001b[1;31m#print b\u001b[0m\u001b[1;33m\u001b[0m\u001b[1;33m\u001b[0m\u001b[0m\n\u001b[1;32m--> 281\u001b[1;33m                   \u001b[0mb\u001b[0m\u001b[1;33m[\u001b[0m\u001b[1;36m1\u001b[0m\u001b[1;33m]\u001b[0m \u001b[1;33m=\u001b[0m \u001b[0mb\u001b[0m\u001b[1;33m[\u001b[0m\u001b[1;36m1\u001b[0m\u001b[1;33m]\u001b[0m\u001b[1;33m.\u001b[0m\u001b[0mreplace\u001b[0m\u001b[1;33m(\u001b[0m\u001b[1;34m'\\\"'\u001b[0m\u001b[1;33m,\u001b[0m\u001b[1;34m''\u001b[0m\u001b[1;33m)\u001b[0m\u001b[1;33m\u001b[0m\u001b[0m\n\u001b[0m\u001b[0;32m    282\u001b[0m                   \u001b[0mG\u001b[0m\u001b[1;33m.\u001b[0m\u001b[0madd_node\u001b[0m\u001b[1;33m(\u001b[0m\u001b[0mint\u001b[0m\u001b[1;33m(\u001b[0m\u001b[0mb\u001b[0m\u001b[1;33m[\u001b[0m\u001b[1;36m0\u001b[0m\u001b[1;33m]\u001b[0m\u001b[1;33m)\u001b[0m\u001b[1;33m,\u001b[0m\u001b[0mga\u001b[0m \u001b[1;33m=\u001b[0m \u001b[0mb\u001b[0m\u001b[1;33m[\u001b[0m\u001b[1;36m1\u001b[0m\u001b[1;33m]\u001b[0m\u001b[1;33m)\u001b[0m\u001b[1;33m\u001b[0m\u001b[0m\n\u001b[0;32m    283\u001b[0m                   \u001b[0mline\u001b[0m \u001b[1;33m=\u001b[0m \u001b[0mfp\u001b[0m\u001b[1;33m.\u001b[0m\u001b[0mreadline\u001b[0m\u001b[1;33m(\u001b[0m\u001b[1;33m)\u001b[0m\u001b[1;33m\u001b[0m\u001b[0m\n",
      "\u001b[1;31mIndexError\u001b[0m: list index out of range"
     ],
     "output_type": "error"
    }
   ],
   "source": [
    "import os\n",
    "os.chdir(\"e:\\\\mysoftware\")\n",
    "import pajekUtil\n",
    "pu = pajekUtil.PajekUtil()\n",
    "pu.loadNetworkFromPajeknet('time_1.net')\n",
    "time1_list = pu.loadPartitionFromClu('blockmodel_time1.clu')\n",
    "pu.writeLabel_par_map_2_txt(pu.g,time1_list,'time1.txt')"
   ]
  },
  {
   "cell_type": "code",
   "execution_count": null,
   "metadata": {},
   "outputs": [],
   "source": []
  }
 ],
 "metadata": {
  "kernelspec": {
   "display_name": "Python 2",
   "language": "python",
   "name": "python2"
  },
  "language_info": {
   "codemirror_mode": {
    "name": "ipython",
    "version": 2
   },
   "file_extension": ".py",
   "mimetype": "text/x-python",
   "name": "python",
   "nbconvert_exporter": "python",
   "pygments_lexer": "ipython2",
   "version": "2.7.15"
  }
 },
 "nbformat": 4,
 "nbformat_minor": 1
}
