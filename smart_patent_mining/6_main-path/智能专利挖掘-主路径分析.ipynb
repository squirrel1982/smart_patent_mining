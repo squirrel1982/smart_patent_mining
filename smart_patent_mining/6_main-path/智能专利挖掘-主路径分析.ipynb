{
 "cells": [
  {
   "cell_type": "code",
   "execution_count": 1,
   "metadata": {},
   "outputs": [
    {
     "name": "stderr",
     "output_type": "stream",
     "text": [
      "2020-01-10 09:23:01,914:INFO:adding document #0 to Dictionary(0 unique tokens: [])\n",
      "2020-01-10 09:23:03,385:INFO:adding document #10000 to Dictionary(11112 unique tokens: [u'orthogon', u'20,38', u'non-use', u'1,4', u'z11']...)\n",
      "2020-01-10 09:23:03,959:INFO:built Dictionary(12501 unique tokens: [u'orthogon', u'20,38', u'non-use', u'1,4', u'z11']...) from 13401 documents (total 1353433 corpus positions)\n",
      "2020-01-10 09:23:05,750:INFO:collecting document frequencies\n",
      "2020-01-10 09:23:05,759:INFO:PROGRESS: processing document #0\n",
      "2020-01-10 09:23:05,910:INFO:PROGRESS: processing document #10000\n",
      "2020-01-10 09:23:05,970:INFO:calculating IDF weights for 13401 documents and 12501 features (736742 matrix non-zeros)\n",
      "2020-01-10 09:23:06,029:INFO:using serial LSI version on this node\n",
      "2020-01-10 09:23:06,039:INFO:updating model with new documents\n",
      "2020-01-10 09:23:11,500:INFO:preparing a new chunk of documents\n",
      "2020-01-10 09:23:11,730:INFO:using 100 extra samples and 2 power iterations\n",
      "2020-01-10 09:23:11,750:INFO:1st phase: constructing (12501, 200) action matrix\n",
      "2020-01-10 09:23:12,099:INFO:orthonormalizing (12501, 200) action matrix\n",
      "2020-01-10 09:23:13,990:INFO:2nd phase: running dense svd on (200, 13401) matrix\n",
      "2020-01-10 09:23:14,569:INFO:computing the final decomposition\n",
      "2020-01-10 09:23:14,579:INFO:keeping 100 factors (discarding 23.264% of energy spectrum)\n",
      "2020-01-10 09:23:14,640:INFO:processed documents up to #13401\n",
      "2020-01-10 09:23:14,650:INFO:topic #0(22.236): 0.238*\"electrod\" + 0.188*\"battery\" + 0.149*\"mat\" + 0.148*\"control\" + 0.135*\"lith\" + 0.134*\"charg\" + 0.132*\"volt\" + 0.130*\"second\" + 0.124*\"mot\" + 0.122*\"lay\"\n",
      "2020-01-10 09:23:14,660:INFO:topic #1(16.121): 0.292*\"electrod\" + -0.249*\"control\" + 0.202*\"mat\" + -0.178*\"mot\" + -0.178*\"volt\" + -0.173*\"detect\" + 0.173*\"lith\" + -0.163*\"rot\" + 0.158*\"lay\" + 0.155*\"electrolyt\"\n",
      "2020-01-10 09:23:14,670:INFO:topic #2(12.501): -0.396*\"rot\" + -0.395*\"magnet\" + 0.250*\"charg\" + 0.235*\"volt\" + -0.193*\"cor\" + -0.182*\"perm\" + -0.151*\"coil\" + 0.151*\"detect\" + -0.142*\"stat\" + 0.122*\"battery\"\n",
      "2020-01-10 09:23:14,680:INFO:topic #3(10.854): -0.189*\"magnet\" + -0.184*\"anod\" + -0.183*\"lith\" + 0.182*\"termin\" + 0.180*\"electrod\" + 0.174*\"plat\" + 0.171*\"connect\" + 0.168*\"cas\" + -0.167*\"mat\" + -0.166*\"rot\"\n",
      "2020-01-10 09:23:14,690:INFO:topic #4(9.927): 0.436*\"electrod\" + 0.228*\"neg\" + -0.225*\"charg\" + 0.217*\"posit\" + 0.215*\"brak\" + -0.209*\"cool\" + -0.200*\"anod\" + 0.183*\"control\" + -0.180*\"cathod\" + 0.161*\"torqu\"\n"
     ]
    }
   ],
   "source": [
    "import cPickle as pickle\n",
    "from gensim import corpora,models,similarities\n",
    "import logging\n",
    "import cPickle as pickle\n",
    "#achive text\n",
    "import pymssql\n",
    "conn=pymssql.connect(host=\".\",user=\"sa\",password=\"123\",database=\"car_database\")\n",
    "cursor = conn.cursor();\n",
    "sql = \"select A.GA,B.AB from cite_13401_network_node_list A,Original_Info B where A.ga = B.GA;\"\n",
    "cursor.execute(sql)\n",
    "m=cursor.fetchall()\n",
    "#put Pn number into a LIST, DOCUMENT INTO ANother list\n",
    "gas = [rawdata[0] for rawdata in m]\n",
    "documents =[rawdata[1] for rawdata in m]\n",
    "#lowercase of word\n",
    "texts_lower = [[word for word in document.lower().split()] for \n",
    "document in documents] \n",
    "#remove punctuation--biao dian\n",
    "from nltk.tokenize import word_tokenize\n",
    "texts_tokenized = [[word.lower() for word in word_tokenize(document)] for document in documents] \n",
    "#remove stopword\n",
    "from nltk.corpus import stopwords \n",
    "english_stopwords = stopwords.words('english')\n",
    "texts_filtered_stopwords = [[word for word in document if not word \n",
    "in english_stopwords] for document in texts_tokenized]\n",
    "#some punctuations havent been removed completely, continues\n",
    "english_punctuations = [',','.',':','?','(',')','[',']','&','!','*','@','#','$','%']\n",
    "texts_filtered = [[word for word in document if not word in english_punctuations] for document in texts_filtered_stopwords]\n",
    "#extract stem\n",
    "from nltk.stem.lancaster import LancasterStemmer \n",
    "st = LancasterStemmer()\n",
    "texts_stemmed = [[st.stem(word) for word in document] for document in texts_filtered] \n",
    "#remove words only occurred once\n",
    "all_stems = sum(texts_stemmed, []) \n",
    "stems_once = set(stem for stem in set(all_stems) if all_stems.count(stem) == 1) \n",
    "texts = [[stem for stem in text if stem not in stems_once] for text in texts_stemmed]\n",
    "logging.basicConfig(format='%(asctime)s:%(levelname)s:%(message)s',level=logging.INFO)\n",
    "dictionary = corpora.Dictionary(texts)\n",
    "#remove gap in dicitonary\n",
    "dictionary.compactify()\n",
    "corpus = [dictionary.doc2bow(text) for text in texts] \n",
    "tfidf = models.TfidfModel(corpus)\n",
    "corpus_tfidf = tfidf[corpus]\n",
    "lsi = models.LsiModel(corpus_tfidf,id2word=dictionary,num_topics=100)\n",
    "f = file('13401_text_lsi.data','w')\n",
    "pickle.dump(lsi,f)\n",
    "f.close;\n",
    "f = file('dictionary.data','w')\n",
    "pickle.dump(dictionary,f)\n",
    "f.close;\n",
    "f = file('gas.data','w')\n",
    "pickle.dump(gas,f)\n",
    "f.close;\n",
    "index = similarities.MatrixSimilarity(lsi[corpus])\n",
    "f = file('index.data','w')\n",
    "pickle.dump(index,f)\n",
    "f.close;\n",
    "f = file('documents.data','w')\n",
    "pickle.dump(documents,f)\n",
    "f.close;\n"
   ]
  },
  {
   "cell_type": "code",
   "execution_count": 1,
   "metadata": {},
   "outputs": [],
   "source": [
    "import cPickle as pickle\n",
    "from gensim import corpora,models,similarities\n",
    "import logging\n",
    "import cPickle as pickle\n",
    "#achive text\n",
    "import pymssql\n",
    "conn=pymssql.connect(host=\".\",user=\"sa\",password=\"123\",database=\"car_database\")\n",
    "cursor = conn.cursor();\n",
    "sql = \"select A.GA,B.AB from cite_13401_network_node_list A,Original_Info B where A.ga = B.GA;\"\n",
    "cursor.execute(sql)\n",
    "m=cursor.fetchall()\n",
    "#put Pn number into a LIST, DOCUMENT INTO ANother list\n",
    "gas = [rawdata[0] for rawdata in m]\n",
    "documents =[rawdata[1] for rawdata in m]"
   ]
  },
  {
   "cell_type": "code",
   "execution_count": 6,
   "metadata": {},
   "outputs": [],
   "source": [
    "with open('documents.data','w') as f:\n",
    "    pickle.dump(documents,f)"
   ]
  },
  {
   "cell_type": "code",
   "execution_count": 4,
   "metadata": {},
   "outputs": [
    {
     "data": {
      "text/plain": [
       "13401"
      ]
     },
     "execution_count": 4,
     "metadata": {},
     "output_type": "execute_result"
    }
   ],
   "source": [
    "len(documents)"
   ]
  },
  {
   "cell_type": "code",
   "execution_count": 7,
   "metadata": {},
   "outputs": [
    {
     "data": {
      "text/plain": [
       "[1, 2, 3, 3, 5]"
      ]
     },
     "execution_count": 7,
     "metadata": {},
     "output_type": "execute_result"
    }
   ],
   "source": [
    "sum([[1,2,3],[3,5]],[])"
   ]
  },
  {
   "cell_type": "code",
   "execution_count": null,
   "metadata": {},
   "outputs": [],
   "source": []
  }
 ],
 "metadata": {
  "kernelspec": {
   "display_name": "Python 2",
   "language": "python",
   "name": "python2"
  },
  "language_info": {
   "codemirror_mode": {
    "name": "ipython",
    "version": 2
   },
   "file_extension": ".py",
   "mimetype": "text/x-python",
   "name": "python",
   "nbconvert_exporter": "python",
   "pygments_lexer": "ipython2",
   "version": "2.7.15"
  }
 },
 "nbformat": 4,
 "nbformat_minor": 2
}
